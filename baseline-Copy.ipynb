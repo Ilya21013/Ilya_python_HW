{
 "cells": [
  {
   "cell_type": "markdown",
   "metadata": {
    "id": "dWcE-y-N-2fE"
   },
   "source": [
    "# Угадай число\n",
    "Нужно написать программу, которая угадывает число за минимальное число попыток.\n",
    "\n",
    "## Условия соревнования\n",
    "- Компьютер загадывает целое число от 1 до 100, и нам его нужно угадать. Под «угадать», подразумевается «написать программу, которая угадывает число».    \n",
    "- Алгоритм учитывает информацию о том, больше ли случайное число или меньше нужного нам.\n",
    "- Необходимо добиться того, чтобы программа угадывала число меньше, чем за 20 попыток.\n"
   ]
  },
  {
   "cell_type": "markdown",
   "metadata": {
    "id": "4sShzLei_ClF"
   },
   "source": [
    "Импортируем библиотеку, которая нам пригодится для генерации случайных чисел. В следующих темах вы познакомитесь с ней подробнее:"
   ]
  },
  {
   "cell_type": "code",
   "execution_count": 1,
   "metadata": {
    "id": "KIy8PgXL-2fH"
   },
   "outputs": [],
   "source": [
    "import numpy as np"
   ]
  },
  {
   "cell_type": "markdown",
   "metadata": {
    "id": "jf8LUtxQBChn"
   },
   "source": [
    "Ниже уже даны два простейших подхода к решению этой задачи. Посмотрим на них."
   ]
  },
  {
   "cell_type": "markdown",
   "metadata": {
    "id": "shciKwTp-2fJ"
   },
   "source": [
    "## Подход 1: Случайное угадывание"
   ]
  },
  {
   "cell_type": "markdown",
   "metadata": {
    "id": "XCYf-uZa-_Oa"
   },
   "source": [
    "Простейший способ решения: научить программу случайным образом выбирать число до тех пор, пока оно не будет угадано. Этот способ не дает хорошего результата, однако будет для нас хорошей стартовой точкой."
   ]
  },
  {
   "cell_type": "code",
   "execution_count": 2,
   "metadata": {
    "id": "pJaQGNND-2fK"
   },
   "outputs": [],
   "source": [
    "def random_predict(number: int = 1) -> int:\n",
    "    \"\"\"Просто угадываем на random, никак не используя информацию о больше или меньше.\n",
    "       Функция принимает загаданное число и возвращает число попыток\n",
    "\n",
    "    Args:\n",
    "        number (int, optional): Загаданное число. Defaults to 1.\n",
    "\n",
    "    Returns:\n",
    "        int: Число попыток\n",
    "    \"\"\"\n",
    "    count = 0\n",
    "\n",
    "    while True:\n",
    "        count += 1\n",
    "        predict_number = np.random.randint(1, 101)  # предполагаемое число\n",
    "        if number == predict_number:\n",
    "            break  # выход из цикла если угадали\n",
    "\n",
    "    return count\n"
   ]
  },
  {
   "cell_type": "markdown",
   "metadata": {
    "id": "Da8TSXrE_2QC"
   },
   "source": [
    "## Подход 2: Угадывание с коррекцией"
   ]
  },
  {
   "cell_type": "markdown",
   "metadata": {
    "id": "UeFYnSZi_7uZ"
   },
   "source": [
    "Сначала устанавливаем любое случайное число, а потом уменьшаем или увеличиваем его в зависимости от того, больше оно или меньше нужного."
   ]
  },
  {
   "cell_type": "code",
   "execution_count": 3,
   "metadata": {
    "id": "bFzp7ROY_QYY"
   },
   "outputs": [],
   "source": [
    "def game_core_v2(number: int = 1) -> int:\n",
    "    \"\"\"Сначала устанавливаем любое random число, а потом уменьшаем\n",
    "    или увеличиваем его в зависимости от того, больше оно или меньше нужного.\n",
    "       Функция принимает загаданное число и возвращает число попыток\n",
    "\n",
    "    Args:\n",
    "        number (int, optional): Загаданное число. Defaults to 1.\n",
    "\n",
    "    Returns:\n",
    "        int: Число попыток\n",
    "    \"\"\"\n",
    "    count = 0\n",
    "    predict = np.random.randint(1, 101)\n",
    "\n",
    "    while number != predict:\n",
    "        count += 1\n",
    "        if number > predict:\n",
    "            predict += 1\n",
    "        elif number < predict:\n",
    "            predict -= 1\n",
    "\n",
    "    return count"
   ]
  },
  {
   "cell_type": "markdown",
   "metadata": {
    "id": "t3rDQ1wTBaXC"
   },
   "source": [
    "Посмотрим, как эти программы справляются с задачей."
   ]
  },
  {
   "cell_type": "markdown",
   "metadata": {
    "id": "GCu4m8fu_-al"
   },
   "source": [
    "## Функция для оценки"
   ]
  },
  {
   "cell_type": "markdown",
   "metadata": {
    "id": "7ZlAJ37fAJ99"
   },
   "source": [
    "Эта функция необходима, чтобы определить, за какое число попыток программа угадывает наше число."
   ]
  },
  {
   "cell_type": "code",
   "execution_count": 3,
   "metadata": {
    "id": "t4WXEDFS_ThY"
   },
   "outputs": [],
   "source": [
    "def score_game(random_predict) -> int:\n",
    "    \"\"\"За какое количество попыток в среднем за 10000 подходов угадывает наш алгоритм\n",
    "\n",
    "    Args:\n",
    "        random_predict ([type]): функция угадывания\n",
    "\n",
    "    Returns:\n",
    "        int: среднее количество попыток\n",
    "    \"\"\"\n",
    "    count_ls = []\n",
    "    #np.random.seed(1)  # фиксируем сид для воспроизводимости\n",
    "    random_array = np.random.randint(1, 101, size=(10000))  # загадали список чисел\n",
    "\n",
    "    for number in random_array:\n",
    "        count_ls.append(random_predict(number))\n",
    "\n",
    "    score = int(np.mean(count_ls))\n",
    "    print(f\"Ваш алгоритм угадывает число в среднем за: {score} попытки\")"
   ]
  },
  {
   "cell_type": "markdown",
   "metadata": {
    "id": "PCC3-Hwz-2fL"
   },
   "source": [
    "## Оценка работы алгоритмов\n",
    "Определяем, какой подход лучше."
   ]
  },
  {
   "cell_type": "code",
   "execution_count": 5,
   "metadata": {
    "id": "khrxOcEB-2fM"
   },
   "outputs": [
    {
     "name": "stdout",
     "output_type": "stream",
     "text": [
      "Run benchmarking for random_predict: Ваш алгоритм угадывает число в среднем за: 100 попытки\n",
      "Run benchmarking for game_core_v2: Ваш алгоритм угадывает число в среднем за: 33 попытки\n"
     ]
    }
   ],
   "source": [
    "#Run benchmarking to score effectiveness of all algorithms\n",
    "print('Run benchmarking for random_predict: ', end='')\n",
    "score_game(random_predict)\n",
    "\n",
    "print('Run benchmarking for game_core_v2: ', end='')\n",
    "score_game(game_core_v2)"
   ]
  },
  {
   "cell_type": "markdown",
   "metadata": {
    "id": "_H0wabPwBfRo"
   },
   "source": [
    "Как мы видим, две предложенные программы показывают не лучший результат.\n",
    "Теперь вы попробуете решить эту задачу и найти более обтимальный алгоритм."
   ]
  },
  {
   "cell_type": "markdown",
   "metadata": {
    "id": "ZIdPcSWzB0G1"
   },
   "source": [
    "## Подход 3: Ваше решение"
   ]
  },
  {
   "cell_type": "markdown",
   "metadata": {
    "id": "KPT5reW1B32U"
   },
   "source": [
    "Напишите функцию, которая принимает на вход загаданное число и возвращает число попыток угадывания."
   ]
  },
  {
   "cell_type": "code",
   "execution_count": 4,
   "metadata": {
    "id": "IvaUUPIe-2fN"
   },
   "outputs": [],
   "source": [
    "def game_core_v3(number: int = 1) -> int:\n",
    "    \"\"\"\n",
    "    Args:\n",
    "        number (int, optional): Загаданное число. Defaults to 1.\n",
    "\n",
    "    Returns:\n",
    "        int: Число попыток\n",
    "    \"\"\"\n",
    "# Ваш код начинается здесь\n",
    "    left = 1\n",
    "    right = 100\n",
    "    #the_board=101//50\n",
    "    count = 0\n",
    "    board_array=[left, right]\n",
    "\n",
    "\n",
    "    while True:\n",
    "        \n",
    "        count+=1 # факт входа в цикл считается попыткой\n",
    "        # первый вход произойдет обязательно\n",
    "        \n",
    "        left = board_array[0]\n",
    "        right = board_array[1]\n",
    "        \n",
    "        # сверять будем с правой границей\n",
    "        if number == right:\n",
    "            number_is = number # запишем для проверки, что же угадала программа\n",
    "            break\n",
    "            # при верно сверке - выходим из цикла. Число угадано. Счетчик больше не щелкнет\n",
    "        \n",
    "        # делим отрезок попалам\n",
    "        the_board = (right + left)//2\n",
    "        # перходим в левый отрезок, если число меньше либо равно его половины включая (т.к сверка по правой границе)\n",
    "        # переход в правый, если число больше его половины\n",
    "        board_array = [left, the_board]  if number<=the_board else [the_board, right]\n",
    "        #print(board_array)\n",
    "        \n",
    "# Ваш код заканчивается здесь\n",
    "\n",
    "    return count"
   ]
  },
  {
   "cell_type": "markdown",
   "metadata": {},
   "source": [
    "Тестируем с помощью простого перебора"
   ]
  },
  {
   "cell_type": "code",
   "execution_count": 5,
   "metadata": {},
   "outputs": [
    {
     "name": "stdout",
     "output_type": "stream",
     "text": [
      "\n",
      "Для всех загаданный чисел из заданного диапазона от 1 до 100 распечатаем, потребовавшееся количество попыток:\n",
      "\n"
     ]
    },
    {
     "data": {
      "text/plain": [
       "{1: 8,\n",
       " 2: 7,\n",
       " 3: 8,\n",
       " 4: 6,\n",
       " 5: 7,\n",
       " 6: 8,\n",
       " 7: 5,\n",
       " 8: 7,\n",
       " 9: 8,\n",
       " 10: 6,\n",
       " 11: 7,\n",
       " 12: 8,\n",
       " 13: 4,\n",
       " 14: 7,\n",
       " 15: 8,\n",
       " 16: 6,\n",
       " 17: 7,\n",
       " 18: 8,\n",
       " 19: 5,\n",
       " 20: 7,\n",
       " 21: 8,\n",
       " 22: 6,\n",
       " 23: 7,\n",
       " 24: 8,\n",
       " 25: 3,\n",
       " 26: 7,\n",
       " 27: 8,\n",
       " 28: 6,\n",
       " 29: 7,\n",
       " 30: 8,\n",
       " 31: 5,\n",
       " 32: 7,\n",
       " 33: 8,\n",
       " 34: 6,\n",
       " 35: 7,\n",
       " 36: 8,\n",
       " 37: 4,\n",
       " 38: 7,\n",
       " 39: 8,\n",
       " 40: 6,\n",
       " 41: 7,\n",
       " 42: 8,\n",
       " 43: 5,\n",
       " 44: 7,\n",
       " 45: 8,\n",
       " 46: 6,\n",
       " 47: 8,\n",
       " 48: 7,\n",
       " 49: 8,\n",
       " 50: 2,\n",
       " 51: 7,\n",
       " 52: 8,\n",
       " 53: 6,\n",
       " 54: 7,\n",
       " 55: 8,\n",
       " 56: 5,\n",
       " 57: 7,\n",
       " 58: 8,\n",
       " 59: 6,\n",
       " 60: 7,\n",
       " 61: 8,\n",
       " 62: 4,\n",
       " 63: 7,\n",
       " 64: 8,\n",
       " 65: 6,\n",
       " 66: 7,\n",
       " 67: 8,\n",
       " 68: 5,\n",
       " 69: 7,\n",
       " 70: 8,\n",
       " 71: 6,\n",
       " 72: 8,\n",
       " 73: 7,\n",
       " 74: 8,\n",
       " 75: 3,\n",
       " 76: 7,\n",
       " 77: 8,\n",
       " 78: 6,\n",
       " 79: 7,\n",
       " 80: 8,\n",
       " 81: 5,\n",
       " 82: 7,\n",
       " 83: 8,\n",
       " 84: 6,\n",
       " 85: 7,\n",
       " 86: 8,\n",
       " 87: 4,\n",
       " 88: 7,\n",
       " 89: 8,\n",
       " 90: 6,\n",
       " 91: 7,\n",
       " 92: 8,\n",
       " 93: 5,\n",
       " 94: 7,\n",
       " 95: 8,\n",
       " 96: 6,\n",
       " 97: 8,\n",
       " 98: 7,\n",
       " 99: 8,\n",
       " 100: 1}"
      ]
     },
     "metadata": {},
     "output_type": "display_data"
    },
    {
     "name": "stdout",
     "output_type": "stream",
     "text": [
      "Наихудший результат: максимальное количество попыток:  8\n"
     ]
    }
   ],
   "source": [
    "#Протестируем для всех чисел из заданного диапазона. Запишем в виде словаря для каждого числа потребовавшееся количество попыток\n",
    "score_table = {}\n",
    "for n in range(1,101):\n",
    "    score_table[n] = game_core_v3(n)\n",
    "    \n",
    "print(\"\\nДля всех загаданный чисел из заданного диапазона от 1 до 100 распечатаем, потребовавшееся количество попыток:\\n\")\n",
    "display(score_table)\n",
    "\n",
    "# найдем наихудший результат\n",
    "print('Наихудший результат: максимальное количество попыток: ', max(score_table.values()))"
   ]
  },
  {
   "cell_type": "markdown",
   "metadata": {
    "id": "UDeCIsG9CACE"
   },
   "source": [
    "Оценим качество вашего алгоритма:"
   ]
  },
  {
   "cell_type": "code",
   "execution_count": 6,
   "metadata": {
    "id": "giSKBUmgCAeh"
   },
   "outputs": [
    {
     "name": "stdout",
     "output_type": "stream",
     "text": [
      "Run benchmarking for game_core_v3: Ваш алгоритм угадывает число в среднем за: 6 попытки\n"
     ]
    }
   ],
   "source": [
    "print('Run benchmarking for game_core_v3: ', end='')\n",
    "score_game(game_core_v3)"
   ]
  },
  {
   "cell_type": "markdown",
   "metadata": {
    "id": "7gc6XmUPC04X"
   },
   "source": [
    "Напомним, что для успешного решения задания программа должна угадывать число меньше чем за 20 попыток!"
   ]
  }
 ],
 "metadata": {
  "colab": {
   "provenance": []
  },
  "interpreter": {
   "hash": "09714a52f69239c6409b3d073f9f3ca0ddb4056fc648d88f7346d3f36a5c4020"
  },
  "kernelspec": {
   "display_name": "Python 3 (ipykernel)",
   "language": "python",
   "name": "python3"
  },
  "language_info": {
   "codemirror_mode": {
    "name": "ipython",
    "version": 3
   },
   "file_extension": ".py",
   "mimetype": "text/x-python",
   "name": "python",
   "nbconvert_exporter": "python",
   "pygments_lexer": "ipython3",
   "version": "3.12.0"
  }
 },
 "nbformat": 4,
 "nbformat_minor": 1
}
